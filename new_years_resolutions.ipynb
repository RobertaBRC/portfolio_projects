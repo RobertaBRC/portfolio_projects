{
 "cells": [
  {
   "cell_type": "markdown",
   "id": "a00b020d",
   "metadata": {},
   "source": [
    "### New Years Resolution Analysis\n",
    "\n",
    "- _Dataset from __Kaggle__: contains about 5000 tweets of New Years Resolutions_\n",
    "- _Tweet dates range from 2014-12-21 to 2015-01-02_"
   ]
  },
  {
   "cell_type": "code",
   "execution_count": 48,
   "id": "76341601",
   "metadata": {},
   "outputs": [],
   "source": [
    "# Importing the required libraries\n",
    "\n",
    "import pandas as pd\n",
    "import re\n",
    "import string\n",
    "from textblob import TextBlob\n",
    "from wordcloud import WordCloud, STOPWORDS\n",
    "import matplotlib.pyplot as plt\n",
    "import numpy as np\n",
    "from PIL import Image\n",
    "import nltk\n",
    "from nltk.corpus import stopwords\n",
    "from nltk.stem.snowball import SnowballStemmer\n",
    "import seaborn as sns\n",
    "import spacy\n",
    "nlp = spacy.load('en_core_web_lg')"
   ]
  },
  {
   "cell_type": "code",
   "execution_count": 30,
   "id": "e4a47155",
   "metadata": {},
   "outputs": [
    {
     "data": {
      "text/plain": [
       "(5002, 14)"
      ]
     },
     "execution_count": 30,
     "metadata": {},
     "output_type": "execute_result"
    }
   ],
   "source": [
    "# Reading the dataset and understanding its dimensions\n",
    "\n",
    "ny_resolutions = pd.read_csv('new_year_resolutions.csv', sep = ';')\n",
    "ny_resolutions.shape"
   ]
  },
  {
   "cell_type": "code",
   "execution_count": 31,
   "id": "4a915483",
   "metadata": {},
   "outputs": [
    {
     "data": {
      "text/html": [
       "<div>\n",
       "<style scoped>\n",
       "    .dataframe tbody tr th:only-of-type {\n",
       "        vertical-align: middle;\n",
       "    }\n",
       "\n",
       "    .dataframe tbody tr th {\n",
       "        vertical-align: top;\n",
       "    }\n",
       "\n",
       "    .dataframe thead th {\n",
       "        text-align: right;\n",
       "    }\n",
       "</style>\n",
       "<table border=\"1\" class=\"dataframe\">\n",
       "  <thead>\n",
       "    <tr style=\"text-align: right;\">\n",
       "      <th></th>\n",
       "      <th>gender</th>\n",
       "      <th>resolution_category</th>\n",
       "      <th>text</th>\n",
       "    </tr>\n",
       "    <tr>\n",
       "      <th>tweet_id</th>\n",
       "      <th></th>\n",
       "      <th></th>\n",
       "      <th></th>\n",
       "    </tr>\n",
       "  </thead>\n",
       "  <tbody>\n",
       "    <tr>\n",
       "      <th>5,50363E+17</th>\n",
       "      <td>female</td>\n",
       "      <td>Health &amp; Fitness</td>\n",
       "      <td>#NewYearsResolution :: Read more books, No scr...</td>\n",
       "    </tr>\n",
       "    <tr>\n",
       "      <th>5,50363E+17</th>\n",
       "      <td>female</td>\n",
       "      <td>Humor</td>\n",
       "      <td>#NewYearsResolution Finally master @ZJ10 's pa...</td>\n",
       "    </tr>\n",
       "    <tr>\n",
       "      <th>5,50362E+17</th>\n",
       "      <td>male</td>\n",
       "      <td>Personal Growth</td>\n",
       "      <td>#NewYearsResolution to stop being so damn perf...</td>\n",
       "    </tr>\n",
       "    <tr>\n",
       "      <th>5,50362E+17</th>\n",
       "      <td>male</td>\n",
       "      <td>Philanthropic</td>\n",
       "      <td>My #NewYearsResolution is to help my disabled ...</td>\n",
       "    </tr>\n",
       "    <tr>\n",
       "      <th>5,50362E+17</th>\n",
       "      <td>female</td>\n",
       "      <td>Personal Growth</td>\n",
       "      <td>#NewYearsResolution #2015Goals #2015bucketlist...</td>\n",
       "    </tr>\n",
       "  </tbody>\n",
       "</table>\n",
       "</div>"
      ],
      "text/plain": [
       "             gender resolution_category  \\\n",
       "tweet_id                                  \n",
       "5,50363E+17  female    Health & Fitness   \n",
       "5,50363E+17  female               Humor   \n",
       "5,50362E+17    male     Personal Growth   \n",
       "5,50362E+17    male       Philanthropic   \n",
       "5,50362E+17  female     Personal Growth   \n",
       "\n",
       "                                                          text  \n",
       "tweet_id                                                        \n",
       "5,50363E+17  #NewYearsResolution :: Read more books, No scr...  \n",
       "5,50363E+17  #NewYearsResolution Finally master @ZJ10 's pa...  \n",
       "5,50362E+17  #NewYearsResolution to stop being so damn perf...  \n",
       "5,50362E+17  My #NewYearsResolution is to help my disabled ...  \n",
       "5,50362E+17  #NewYearsResolution #2015Goals #2015bucketlist...  "
      ]
     },
     "execution_count": 31,
     "metadata": {},
     "output_type": "execute_result"
    }
   ],
   "source": [
    "# Setting a custom index for the dataframe ('tweet_id') and selecting the relevant columns\n",
    "\n",
    "ny_resolutions.set_index('tweet_id', inplace = True)\n",
    "ny_resolutions = ny_resolutions[['gender', 'resolution_category', 'text']]\n",
    "ny_resolutions.head()"
   ]
  },
  {
   "cell_type": "markdown",
   "id": "3cba2153",
   "metadata": {},
   "source": [
    "---"
   ]
  },
  {
   "cell_type": "markdown",
   "id": "81c659ac",
   "metadata": {},
   "source": [
    "Getting an overview of the data:"
   ]
  },
  {
   "cell_type": "code",
   "execution_count": 32,
   "id": "52ea9955",
   "metadata": {},
   "outputs": [
    {
     "data": {
      "image/png": "[encoded data removed]",
      "text/plain": [
       "<Figure size 720x360 with 1 Axes>"
      ]
     },
     "metadata": {
      "needs_background": "light"
     },
     "output_type": "display_data"
    }
   ],
   "source": [
    "# Tweets by resolution category\n",
    "\n",
    "plt.figure(figsize=(10,5))\n",
    "\n",
    "sns.barplot(x = ny_resolutions['resolution_category'].value_counts().values, y = ny_resolutions['resolution_category'].value_counts().index, palette = 'crest')\n",
    "plt.title('Tweets by resolution category')\n",
    "plt.xlabel('Number of tweets', fontsize = 11)\n",
    "plt.show()"
   ]
  },
  {
   "cell_type": "code",
   "execution_count": 33,
   "id": "abd1f30a",
   "metadata": {},
   "outputs": [
    {
     "data": {
      "image/png": "[encoded data removed]",
      "text/plain": [
       "<Figure size 432x288 with 1 Axes>"
      ]
     },
     "metadata": {},
     "output_type": "display_data"
    }
   ],
   "source": [
    "# Tweets by gender\n",
    "\n",
    "plt.pie(ny_resolutions['gender'].value_counts(), labels = ['Male', 'Female'], colors = ['blue', 'pink'], autopct='%.1f%%', textprops={'color': 'grey', 'size': 'x-large'})\n",
    "\n",
    "center_circle = plt.Circle((0,0), 0.5, color = 'white')\n",
    "p = plt.gcf()\n",
    "p.gca().add_artist(center_circle)\n",
    "plt.title('Gender representation (people who tweeted)')\n",
    "plt.show()"
   ]
  },
  {
   "cell_type": "markdown",
   "id": "e0071066",
   "metadata": {},
   "source": [
    "---"
   ]
  },
  {
   "cell_type": "markdown",
   "id": "5ca0f7ba",
   "metadata": {},
   "source": [
    "Let's start analysing the tweet's text (from this point on, the analysis will be based on the 'text' column):"
   ]
  },
  {
   "cell_type": "code",
   "execution_count": 34,
   "id": "d2e91938",
   "metadata": {},
   "outputs": [
    {
     "data": {
      "text/plain": [
       "tweet_id\n",
       "5,50363E+17    NewYearsResolution Read books No scrolling FBc...\n",
       "5,50363E+17    NewYearsResolution Finally master part Kitchen...\n",
       "5,50362E+17                    NewYearsResolution stop damn perf\n",
       "5,50362E+17    My NewYearsResolution help disabled patients d...\n",
       "5,50362E+17    NewYearsResolution 2015Goals 2015bucketlist co...\n",
       "Name: text, dtype: object"
      ]
     },
     "execution_count": 34,
     "metadata": {},
     "output_type": "execute_result"
    }
   ],
   "source": [
    "# Creating a function to remove '#', 'RT', hyperlinks, @mentions, punctuations, and stop words\n",
    "\n",
    "def cleanText(text):\n",
    "    text = re.sub(r'#', '', text)\n",
    "    text = re.sub(r'RT[\\s]+', '', text)\n",
    "    text = re.sub(r'https?:\\/\\/\\S+', '', text)\n",
    "    text = re.sub(r'@[a-zA-Z0-9]+', '', text)\n",
    "    text = text.translate(str.maketrans('', '', string.punctuation))\n",
    "    text = ' '.join([word for word in text.split() if word not in stopwords.words(\"english\")])\n",
    "    return text\n",
    "\n",
    "ny_resolutions['text'] = ny_resolutions['text'].apply(cleanText)\n",
    "ny_resolutions['text'].head()"
   ]
  },
  {
   "cell_type": "markdown",
   "id": "74584fb3",
   "metadata": {},
   "source": [
    "---"
   ]
  },
  {
   "cell_type": "markdown",
   "id": "dbf09bb2",
   "metadata": {},
   "source": [
    "Analysing the subjectivity and polarity of the tweet's text:\n",
    "- __Subjectivity__ ranges from 0 to 1, with 0 being objective and 1 being subjective\n",
    "- __Polarity__ ranges from -1 to 1, with -1 being negative and 1 being positive "
   ]
  },
  {
   "cell_type": "code",
   "execution_count": 35,
   "id": "44e73896",
   "metadata": {},
   "outputs": [
    {
     "data": {
      "text/html": [
       "<div>\n",
       "<style scoped>\n",
       "    .dataframe tbody tr th:only-of-type {\n",
       "        vertical-align: middle;\n",
       "    }\n",
       "\n",
       "    .dataframe tbody tr th {\n",
       "        vertical-align: top;\n",
       "    }\n",
       "\n",
       "    .dataframe thead th {\n",
       "        text-align: right;\n",
       "    }\n",
       "</style>\n",
       "<table border=\"1\" class=\"dataframe\">\n",
       "  <thead>\n",
       "    <tr style=\"text-align: right;\">\n",
       "      <th></th>\n",
       "      <th>gender</th>\n",
       "      <th>resolution_category</th>\n",
       "      <th>text</th>\n",
       "      <th>subjectivity</th>\n",
       "      <th>polarity</th>\n",
       "    </tr>\n",
       "    <tr>\n",
       "      <th>tweet_id</th>\n",
       "      <th></th>\n",
       "      <th></th>\n",
       "      <th></th>\n",
       "      <th></th>\n",
       "      <th></th>\n",
       "    </tr>\n",
       "  </thead>\n",
       "  <tbody>\n",
       "    <tr>\n",
       "      <th>5,50363E+17</th>\n",
       "      <td>female</td>\n",
       "      <td>Health &amp; Fitness</td>\n",
       "      <td>NewYearsResolution Read books No scrolling FBc...</td>\n",
       "      <td>0.000000</td>\n",
       "      <td>0.0</td>\n",
       "    </tr>\n",
       "    <tr>\n",
       "      <th>5,50363E+17</th>\n",
       "      <td>female</td>\n",
       "      <td>Humor</td>\n",
       "      <td>NewYearsResolution Finally master part Kitchen...</td>\n",
       "      <td>1.000000</td>\n",
       "      <td>0.0</td>\n",
       "    </tr>\n",
       "    <tr>\n",
       "      <th>5,50362E+17</th>\n",
       "      <td>male</td>\n",
       "      <td>Personal Growth</td>\n",
       "      <td>NewYearsResolution stop damn perf</td>\n",
       "      <td>0.000000</td>\n",
       "      <td>0.0</td>\n",
       "    </tr>\n",
       "    <tr>\n",
       "      <th>5,50362E+17</th>\n",
       "      <td>male</td>\n",
       "      <td>Philanthropic</td>\n",
       "      <td>My NewYearsResolution help disabled patients d...</td>\n",
       "      <td>0.510714</td>\n",
       "      <td>0.1</td>\n",
       "    </tr>\n",
       "    <tr>\n",
       "      <th>5,50362E+17</th>\n",
       "      <td>female</td>\n",
       "      <td>Personal Growth</td>\n",
       "      <td>NewYearsResolution 2015Goals 2015bucketlist co...</td>\n",
       "      <td>0.000000</td>\n",
       "      <td>0.0</td>\n",
       "    </tr>\n",
       "  </tbody>\n",
       "</table>\n",
       "</div>"
      ],
      "text/plain": [
       "             gender resolution_category  \\\n",
       "tweet_id                                  \n",
       "5,50363E+17  female    Health & Fitness   \n",
       "5,50363E+17  female               Humor   \n",
       "5,50362E+17    male     Personal Growth   \n",
       "5,50362E+17    male       Philanthropic   \n",
       "5,50362E+17  female     Personal Growth   \n",
       "\n",
       "                                                          text  subjectivity  \\\n",
       "tweet_id                                                                       \n",
       "5,50363E+17  NewYearsResolution Read books No scrolling FBc...      0.000000   \n",
       "5,50363E+17  NewYearsResolution Finally master part Kitchen...      1.000000   \n",
       "5,50362E+17                  NewYearsResolution stop damn perf      0.000000   \n",
       "5,50362E+17  My NewYearsResolution help disabled patients d...      0.510714   \n",
       "5,50362E+17  NewYearsResolution 2015Goals 2015bucketlist co...      0.000000   \n",
       "\n",
       "             polarity  \n",
       "tweet_id               \n",
       "5,50363E+17       0.0  \n",
       "5,50363E+17       0.0  \n",
       "5,50362E+17       0.0  \n",
       "5,50362E+17       0.1  \n",
       "5,50362E+17       0.0  "
      ]
     },
     "execution_count": 35,
     "metadata": {},
     "output_type": "execute_result"
    }
   ],
   "source": [
    "# Creating functions to determine the Subjectivity and Polarity and add them to the dataframe (creating new columns)\n",
    "\n",
    "def getSubjectivity(text):\n",
    "    return TextBlob(text).sentiment.subjectivity\n",
    "\n",
    "def getPolarity(text):\n",
    "    return TextBlob(text).sentiment.polarity\n",
    "\n",
    "ny_resolutions['subjectivity'] = ny_resolutions['text'].apply(getSubjectivity)\n",
    "ny_resolutions['polarity'] = ny_resolutions['text'].apply(getPolarity)\n",
    "\n",
    "ny_resolutions.head()"
   ]
  },
  {
   "cell_type": "code",
   "execution_count": 36,
   "id": "dc7fa238",
   "metadata": {},
   "outputs": [
    {
     "data": {
      "text/html": [
       "<div>\n",
       "<style scoped>\n",
       "    .dataframe tbody tr th:only-of-type {\n",
       "        vertical-align: middle;\n",
       "    }\n",
       "\n",
       "    .dataframe tbody tr th {\n",
       "        vertical-align: top;\n",
       "    }\n",
       "\n",
       "    .dataframe thead th {\n",
       "        text-align: right;\n",
       "    }\n",
       "</style>\n",
       "<table border=\"1\" class=\"dataframe\">\n",
       "  <thead>\n",
       "    <tr style=\"text-align: right;\">\n",
       "      <th></th>\n",
       "      <th>gender</th>\n",
       "      <th>resolution_category</th>\n",
       "      <th>text</th>\n",
       "      <th>subjectivity</th>\n",
       "      <th>polarity</th>\n",
       "      <th>sentiment</th>\n",
       "    </tr>\n",
       "    <tr>\n",
       "      <th>tweet_id</th>\n",
       "      <th></th>\n",
       "      <th></th>\n",
       "      <th></th>\n",
       "      <th></th>\n",
       "      <th></th>\n",
       "      <th></th>\n",
       "    </tr>\n",
       "  </thead>\n",
       "  <tbody>\n",
       "    <tr>\n",
       "      <th>5,50363E+17</th>\n",
       "      <td>female</td>\n",
       "      <td>Health &amp; Fitness</td>\n",
       "      <td>NewYearsResolution Read books No scrolling FBc...</td>\n",
       "      <td>0.000000</td>\n",
       "      <td>0.0</td>\n",
       "      <td>Neutral</td>\n",
       "    </tr>\n",
       "    <tr>\n",
       "      <th>5,50363E+17</th>\n",
       "      <td>female</td>\n",
       "      <td>Humor</td>\n",
       "      <td>NewYearsResolution Finally master part Kitchen...</td>\n",
       "      <td>1.000000</td>\n",
       "      <td>0.0</td>\n",
       "      <td>Neutral</td>\n",
       "    </tr>\n",
       "    <tr>\n",
       "      <th>5,50362E+17</th>\n",
       "      <td>male</td>\n",
       "      <td>Personal Growth</td>\n",
       "      <td>NewYearsResolution stop damn perf</td>\n",
       "      <td>0.000000</td>\n",
       "      <td>0.0</td>\n",
       "      <td>Neutral</td>\n",
       "    </tr>\n",
       "    <tr>\n",
       "      <th>5,50362E+17</th>\n",
       "      <td>male</td>\n",
       "      <td>Philanthropic</td>\n",
       "      <td>My NewYearsResolution help disabled patients d...</td>\n",
       "      <td>0.510714</td>\n",
       "      <td>0.1</td>\n",
       "      <td>Positive</td>\n",
       "    </tr>\n",
       "    <tr>\n",
       "      <th>5,50362E+17</th>\n",
       "      <td>female</td>\n",
       "      <td>Personal Growth</td>\n",
       "      <td>NewYearsResolution 2015Goals 2015bucketlist co...</td>\n",
       "      <td>0.000000</td>\n",
       "      <td>0.0</td>\n",
       "      <td>Neutral</td>\n",
       "    </tr>\n",
       "  </tbody>\n",
       "</table>\n",
       "</div>"
      ],
      "text/plain": [
       "             gender resolution_category  \\\n",
       "tweet_id                                  \n",
       "5,50363E+17  female    Health & Fitness   \n",
       "5,50363E+17  female               Humor   \n",
       "5,50362E+17    male     Personal Growth   \n",
       "5,50362E+17    male       Philanthropic   \n",
       "5,50362E+17  female     Personal Growth   \n",
       "\n",
       "                                                          text  subjectivity  \\\n",
       "tweet_id                                                                       \n",
       "5,50363E+17  NewYearsResolution Read books No scrolling FBc...      0.000000   \n",
       "5,50363E+17  NewYearsResolution Finally master part Kitchen...      1.000000   \n",
       "5,50362E+17                  NewYearsResolution stop damn perf      0.000000   \n",
       "5,50362E+17  My NewYearsResolution help disabled patients d...      0.510714   \n",
       "5,50362E+17  NewYearsResolution 2015Goals 2015bucketlist co...      0.000000   \n",
       "\n",
       "             polarity sentiment  \n",
       "tweet_id                         \n",
       "5,50363E+17       0.0   Neutral  \n",
       "5,50363E+17       0.0   Neutral  \n",
       "5,50362E+17       0.0   Neutral  \n",
       "5,50362E+17       0.1  Positive  \n",
       "5,50362E+17       0.0   Neutral  "
      ]
     },
     "execution_count": 36,
     "metadata": {},
     "output_type": "execute_result"
    }
   ],
   "source": [
    "# Getting the sentiment associated with each tweet based on its polarity\n",
    "\n",
    "def getSentiment(polarity):\n",
    "    if polarity == 0:\n",
    "        return 'Neutral'\n",
    "    elif polarity < 0:\n",
    "        return 'Negative'\n",
    "    else:\n",
    "        return 'Positive'\n",
    "    \n",
    "ny_resolutions['sentiment'] = ny_resolutions['polarity'].apply(getSentiment)\n",
    "ny_resolutions.head()"
   ]
  },
  {
   "cell_type": "code",
   "execution_count": 37,
   "id": "3523b831",
   "metadata": {},
   "outputs": [
    {
     "name": "stdout",
     "output_type": "stream",
     "text": [
      "Positive    2529\n",
      "Neutral     1699\n",
      "Negative     774\n",
      "Name: sentiment, dtype: int64\n"
     ]
    },
    {
     "data": {
      "image/png": "[encoded data removed]",
      "text/plain": [
       "<Figure size 432x288 with 1 Axes>"
      ]
     },
     "metadata": {
      "needs_background": "light"
     },
     "output_type": "display_data"
    }
   ],
   "source": [
    "# Finding sentiment split and plotting its results\n",
    "\n",
    "sentimentSplit = ny_resolutions['sentiment'].value_counts()\n",
    "print(sentimentSplit)\n",
    "\n",
    "x = sentimentSplit.index\n",
    "h = sentimentSplit.values\n",
    "\n",
    "c =[]\n",
    "for i in x:\n",
    "    if i == 'Positive':\n",
    "        c.append('green')\n",
    "    elif i == 'Neutral':\n",
    "        c.append('black')\n",
    "    else:\n",
    "        c.append('red')\n",
    "\n",
    "plt.bar(x, height = h, color = c)\n",
    "plt.title('Number of tweets by sentiment status')\n",
    "plt.show()"
   ]
  },
  {
   "cell_type": "code",
   "execution_count": 38,
   "id": "9378c295",
   "metadata": {},
   "outputs": [
    {
     "data": {
      "text/plain": [
       "Positive    50.56\n",
       "Neutral     33.97\n",
       "Negative    15.47\n",
       "Name: sentiment, dtype: float64"
      ]
     },
     "execution_count": 38,
     "metadata": {},
     "output_type": "execute_result"
    }
   ],
   "source": [
    "# Finding sentiment split (percentage)\n",
    "\n",
    "sentimentPerc = round((sentimentSplit / ny_resolutions.shape[0]) * 100, 2)\n",
    "sentimentPerc"
   ]
  },
  {
   "cell_type": "code",
   "execution_count": 39,
   "id": "452473b9",
   "metadata": {},
   "outputs": [
    {
     "data": {
      "image/png": "[encoded data removed]",
      "text/plain": [
       "<Figure size 576x432 with 1 Axes>"
      ]
     },
     "metadata": {
      "needs_background": "light"
     },
     "output_type": "display_data"
    }
   ],
   "source": [
    "# Visualising tweets' subjectivity and polarity\n",
    "\n",
    "plt.figure(figsize = (8,6))\n",
    "\n",
    "for i in range(0, ny_resolutions.shape[0]):\n",
    "    if ny_resolutions['sentiment'][i] == 'Positive':\n",
    "        color = 'green'\n",
    "    elif ny_resolutions['sentiment'][i] == 'Negative':\n",
    "        color = 'red'\n",
    "    else:\n",
    "        color = 'yellow'\n",
    "    plt.scatter(ny_resolutions['polarity'][i], ny_resolutions['subjectivity'][i], color = color, s = (2))\n",
    "\n",
    "plt.title(\"Tweets' subjectivity and polarity\")\n",
    "plt.xlabel('Polarity (how negative or positive tweets are)')\n",
    "plt.ylabel('Subjectivity (how objective or subjective tweets are)')\n",
    "plt.axvline(0, color = 'grey', linestyle='--')\n",
    "plt.show()"
   ]
  },
  {
   "cell_type": "markdown",
   "id": "174203f1",
   "metadata": {},
   "source": [
    "---"
   ]
  },
  {
   "cell_type": "markdown",
   "id": "c099db72",
   "metadata": {},
   "source": [
    "Analysing individual words:\n"
   ]
  },
  {
   "cell_type": "code",
   "execution_count": 40,
   "id": "5a1654f3",
   "metadata": {},
   "outputs": [
    {
     "data": {
      "image/png": "[encoded data removed]",
      "text/plain": [
       "<Figure size 432x288 with 1 Axes>"
      ]
     },
     "metadata": {
      "needs_background": "light"
     },
     "output_type": "display_data"
    }
   ],
   "source": [
    "# Creating a word cloud to visualise the most commonly occurring words: for the purpose of this word cloud, let's remove the words in 'New Years Resolutions', which not surprisingly, are the most frequently occurring words\n",
    "\n",
    "allTweets = ' '.join([text for text in ny_resolutions['text']]).split()\n",
    "allTweets = [word for word in allTweets \n",
    "    if word.lower() not in('newyearsresolution', 'new', 'year', 'years', 'resolution', 'resolutions')]\n",
    "allTweets = ' '.join(allTweets)\n",
    "\n",
    "# Excluding specific words that don't add meaning to the word cloud\n",
    "STOPWORDS.add('Im')  \n",
    "STOPWORDS.add('go')  \n",
    "STOPWORDS.add('amp')  \n",
    "STOPWORDS.add('dont') \n",
    "\n",
    "# Setting a specific shape for th word cloud\n",
    "custom_mask = np.array(Image.open('image_word_cloud.png'))\n",
    "\n",
    "wordCloud = WordCloud(stopwords = STOPWORDS, mask = custom_mask, contour_color = 'orange', contour_width = 15, max_font_size = 200).generate(allTweets)\n",
    "plt.imshow(wordCloud, interpolation = 'bilinear')\n",
    "plt.axis('off')\n",
    "plt.show()"
   ]
  },
  {
   "cell_type": "code",
   "execution_count": 41,
   "id": "320aeac9",
   "metadata": {},
   "outputs": [
    {
     "data": {
      "text/plain": [
       "['read',\n",
       " 'book',\n",
       " 'no',\n",
       " 'scroll',\n",
       " 'fbcheck',\n",
       " 'email',\n",
       " 'b4',\n",
       " 'breakfast',\n",
       " 'stay',\n",
       " 'dedic',\n",
       " 'ptyoga',\n",
       " 'squash',\n",
       " 'achin',\n",
       " 'back',\n",
       " 'final',\n",
       " 'master',\n",
       " 'part',\n",
       " 'kitchen',\n",
       " 'sink',\n",
       " 'stop',\n",
       " 'damn',\n",
       " 'perf',\n",
       " 'my',\n",
       " 'help',\n",
       " 'disabl',\n",
       " 'patient',\n",
       " 'discov',\n",
       " 'emot',\n",
       " 'physic',\n",
       " 'therapi']"
      ]
     },
     "execution_count": 41,
     "metadata": {},
     "output_type": "execute_result"
    }
   ],
   "source": [
    "# Finding the root of the words\n",
    "\n",
    "root = SnowballStemmer(language = 'english')\n",
    "\n",
    "root_word = []\n",
    "for word in allTweets.split():\n",
    "    root_word.append(root.stem(word))\n",
    "    \n",
    "root_word[:30]  # Showing only some of the root words (for simplicity)"
   ]
  },
  {
   "cell_type": "code",
   "execution_count": 49,
   "id": "c8eaca02",
   "metadata": {},
   "outputs": [
    {
     "data": {
      "text/plain": [
       "['read',\n",
       " 'book',\n",
       " 'scroll',\n",
       " 'fbcheck',\n",
       " 'email',\n",
       " 'breakfast',\n",
       " 'stay',\n",
       " 'dedic',\n",
       " 'ptyoga',\n",
       " 'squash',\n",
       " 'achin',\n",
       " 'back',\n",
       " 'final',\n",
       " 'master',\n",
       " 'part',\n",
       " 'kitchen',\n",
       " 'sink',\n",
       " 'stop',\n",
       " 'damn',\n",
       " 'perf',\n",
       " 'help',\n",
       " 'disabl',\n",
       " 'patient',\n",
       " 'discov',\n",
       " 'emot',\n",
       " 'physic',\n",
       " 'therapi',\n",
       " 'love',\n",
       " 'pet',\n",
       " 'adoptarescu']"
      ]
     },
     "execution_count": 49,
     "metadata": {},
     "output_type": "execute_result"
    }
   ],
   "source": [
    "# Removing stopwords and some of the frequently occurring words that don't have meaning by itself\n",
    "\n",
    "stopwords = nltk.corpus.stopwords.words('english')\n",
    "stopwords.append('get')\n",
    "stopwords.append('go')\n",
    "stopwords.append('im')\n",
    "stopwords.append('amp')\n",
    "stopwords.append('dont')\n",
    "stopwords.append('1')\n",
    "stopwords.append('let')\n",
    "stopwords.append('tri')\n",
    "stopwords.append('no')\n",
    "stopwords.append('b4')\n",
    "\n",
    "root_word_clean = []\n",
    "\n",
    "for word in root_word:\n",
    "    if word not in stopwords:\n",
    "        root_word_clean.append(word)\n",
    "\n",
    "root_word_clean[:30]  # Showing only some of the root words (for simplicity)"
   ]
  },
  {
   "cell_type": "code",
   "execution_count": 50,
   "id": "0bfefb5c",
   "metadata": {},
   "outputs": [
    {
     "data": {
      "text/plain": [
       "2015      747\n",
       "make      387\n",
       "stop      360\n",
       "start     256\n",
       "time      240\n",
       "peopl     205\n",
       "less      204\n",
       "one       203\n",
       "like      197\n",
       "better    179\n",
       "day       179\n",
       "eat       178\n",
       "life      166\n",
       "want      147\n",
       "happi     144\n",
       "take      140\n",
       "work      139\n",
       "love      138\n",
       "money     131\n",
       "keep      126\n",
       "dtype: int64"
      ]
     },
     "execution_count": 50,
     "metadata": {},
     "output_type": "execute_result"
    }
   ],
   "source": [
    "# Checking which are the top 20 most frequent root words\n",
    "\n",
    "word_frequency = pd.value_counts(np.array(root_word_clean))\n",
    "word_frequency = word_frequency.sort_values(ascending = False)[:20]\n",
    "word_frequency"
   ]
  },
  {
   "cell_type": "code",
   "execution_count": 51,
   "id": "da96cfb2",
   "metadata": {},
   "outputs": [
    {
     "data": {
      "image/png": "[encoded data removed]",
      "text/plain": [
       "<Figure size 720x360 with 1 Axes>"
      ]
     },
     "metadata": {
      "needs_background": "light"
     },
     "output_type": "display_data"
    }
   ],
   "source": [
    "# Plotting the results above (top 20 most frequent words)\n",
    "\n",
    "plt.figure(figsize=(10,5))\n",
    "\n",
    "sns.barplot(x = word_frequency.values, y = word_frequency.index, palette = \"mako\")\n",
    "plt.title('Top 20 most frequent words')\n",
    "plt.xlabel('Number of times the word appeared', fontsize = 11)\n",
    "plt.show()"
   ]
  },
  {
   "cell_type": "markdown",
   "id": "8b5e47ed",
   "metadata": {},
   "source": [
    "Starting and stopping activities seemed to be among the top priorities in these resolutions for 2015. Understandably, time is also an area that people planned to focus on in the new year."
   ]
  },
  {
   "cell_type": "code",
   "execution_count": 52,
   "id": "fe0736c7",
   "metadata": {},
   "outputs": [
    {
     "data": {
      "text/plain": [
       "DATE           952\n",
       "CARDINAL       557\n",
       "PERSON         487\n",
       "ORG            245\n",
       "TIME            70\n",
       "GPE             68\n",
       "ORDINAL         64\n",
       "QUANTITY        51\n",
       "NORP            48\n",
       "PRODUCT         27\n",
       "FAC              8\n",
       "LOC              7\n",
       "WORK_OF_ART      5\n",
       "MONEY            4\n",
       "EVENT            2\n",
       "LANGUAGE         2\n",
       "LAW              1\n",
       "PERCENT          1\n",
       "Name: entity, dtype: int64"
      ]
     },
     "execution_count": 52,
     "metadata": {},
     "output_type": "execute_result"
    }
   ],
   "source": [
    "# Finding the categories to which the root words belong\n",
    "\n",
    "root_word_stem = nlp(' '.join(root_word_clean))\n",
    "label = [(X.text, X.label_) for X in root_word_stem.ents]\n",
    "root_word_entity = pd.DataFrame(label, columns = ['word','entity'])\n",
    "root_word_entity['entity'].value_counts()"
   ]
  },
  {
   "cell_type": "markdown",
   "id": "bd5b1dac",
   "metadata": {},
   "source": [
    "---"
   ]
  },
  {
   "cell_type": "markdown",
   "id": "b5bba124",
   "metadata": {},
   "source": [
    "References:\n",
    "- https://www.youtube.com/watch?v=ujId4ipkBio&list=WL&index=2\n",
    "- https://www.youtube.com/watch?v=MpIi4HtCiVk"
   ]
  }
 ],
 "metadata": {
  "kernelspec": {
   "display_name": "Python 3 (ipykernel)",
   "language": "python",
   "name": "python3"
  },
  "language_info": {
   "codemirror_mode": {
    "name": "ipython",
    "version": 3
   },
   "file_extension": ".py",
   "mimetype": "text/x-python",
   "name": "python",
   "nbconvert_exporter": "python",
   "pygments_lexer": "ipython3",
   "version": "3.9.7"
  }
 },
 "nbformat": 4,
 "nbformat_minor": 5
}
